{
 "cells": [
  {
   "cell_type": "code",
   "execution_count": 1,
   "metadata": {},
   "outputs": [],
   "source": [
    "import numpy as np"
   ]
  },
  {
   "cell_type": "code",
   "execution_count": 7,
   "metadata": {},
   "outputs": [],
   "source": [
    "arr1 = np.array(10)"
   ]
  },
  {
   "cell_type": "code",
   "execution_count": 12,
   "metadata": {},
   "outputs": [
    {
     "data": {
      "text/plain": [
       "array([ 1.,  5.,  9., 13., 17., 21., 25., 29., 33., 37., 41., 45., 49.,\n",
       "       53., 57., 61., 65., 69., 73., 77., 81., 85., 89., 93., 97.])"
      ]
     },
     "execution_count": 12,
     "metadata": {},
     "output_type": "execute_result"
    }
   ],
   "source": [
    "np.arange(1,100,step=4,dtype='float')"
   ]
  },
  {
   "cell_type": "code",
   "execution_count": 18,
   "metadata": {},
   "outputs": [
    {
     "data": {
      "text/plain": [
       "array([  1.        ,   1.66442953,   2.32885906,   2.99328859,\n",
       "         3.65771812,   4.32214765,   4.98657718,   5.65100671,\n",
       "         6.31543624,   6.97986577,   7.6442953 ,   8.30872483,\n",
       "         8.97315436,   9.63758389,  10.30201342,  10.96644295,\n",
       "        11.63087248,  12.29530201,  12.95973154,  13.62416107,\n",
       "        14.2885906 ,  14.95302013,  15.61744966,  16.28187919,\n",
       "        16.94630872,  17.61073826,  18.27516779,  18.93959732,\n",
       "        19.60402685,  20.26845638,  20.93288591,  21.59731544,\n",
       "        22.26174497,  22.9261745 ,  23.59060403,  24.25503356,\n",
       "        24.91946309,  25.58389262,  26.24832215,  26.91275168,\n",
       "        27.57718121,  28.24161074,  28.90604027,  29.5704698 ,\n",
       "        30.23489933,  30.89932886,  31.56375839,  32.22818792,\n",
       "        32.89261745,  33.55704698,  34.22147651,  34.88590604,\n",
       "        35.55033557,  36.2147651 ,  36.87919463,  37.54362416,\n",
       "        38.20805369,  38.87248322,  39.53691275,  40.20134228,\n",
       "        40.86577181,  41.53020134,  42.19463087,  42.8590604 ,\n",
       "        43.52348993,  44.18791946,  44.85234899,  45.51677852,\n",
       "        46.18120805,  46.84563758,  47.51006711,  48.17449664,\n",
       "        48.83892617,  49.5033557 ,  50.16778523,  50.83221477,\n",
       "        51.4966443 ,  52.16107383,  52.82550336,  53.48993289,\n",
       "        54.15436242,  54.81879195,  55.48322148,  56.14765101,\n",
       "        56.81208054,  57.47651007,  58.1409396 ,  58.80536913,\n",
       "        59.46979866,  60.13422819,  60.79865772,  61.46308725,\n",
       "        62.12751678,  62.79194631,  63.45637584,  64.12080537,\n",
       "        64.7852349 ,  65.44966443,  66.11409396,  66.77852349,\n",
       "        67.44295302,  68.10738255,  68.77181208,  69.43624161,\n",
       "        70.10067114,  70.76510067,  71.4295302 ,  72.09395973,\n",
       "        72.75838926,  73.42281879,  74.08724832,  74.75167785,\n",
       "        75.41610738,  76.08053691,  76.74496644,  77.40939597,\n",
       "        78.0738255 ,  78.73825503,  79.40268456,  80.06711409,\n",
       "        80.73154362,  81.39597315,  82.06040268,  82.72483221,\n",
       "        83.38926174,  84.05369128,  84.71812081,  85.38255034,\n",
       "        86.04697987,  86.7114094 ,  87.37583893,  88.04026846,\n",
       "        88.70469799,  89.36912752,  90.03355705,  90.69798658,\n",
       "        91.36241611,  92.02684564,  92.69127517,  93.3557047 ,\n",
       "        94.02013423,  94.68456376,  95.34899329,  96.01342282,\n",
       "        96.67785235,  97.34228188,  98.00671141,  98.67114094,\n",
       "        99.33557047, 100.        ])"
      ]
     },
     "execution_count": 18,
     "metadata": {},
     "output_type": "execute_result"
    }
   ],
   "source": [
    "np.linspace(1,100,num=150)"
   ]
  },
  {
   "cell_type": "code",
   "execution_count": 19,
   "metadata": {},
   "outputs": [],
   "source": [
    "import pandas as pd"
   ]
  },
  {
   "cell_type": "code",
   "execution_count": 22,
   "metadata": {},
   "outputs": [],
   "source": [
    "arr2 = pd.array([1,2,3,4,5,6])"
   ]
  },
  {
   "cell_type": "code",
   "execution_count": 24,
   "metadata": {},
   "outputs": [
    {
     "data": {
      "text/plain": [
       "(6,)"
      ]
     },
     "execution_count": 24,
     "metadata": {},
     "output_type": "execute_result"
    }
   ],
   "source": [
    "arr2.shape"
   ]
  },
  {
   "cell_type": "code",
   "execution_count": 31,
   "metadata": {},
   "outputs": [],
   "source": [
    "ser1 = pd.Series([1,2,3,4,5,6],index=['row1','row2','row3','row4','row5','row6'])"
   ]
  },
  {
   "cell_type": "code",
   "execution_count": 33,
   "metadata": {},
   "outputs": [
    {
     "data": {
      "text/plain": [
       "Index(['row1', 'row2', 'row3', 'row4', 'row5', 'row6'], dtype='object')"
      ]
     },
     "execution_count": 33,
     "metadata": {},
     "output_type": "execute_result"
    }
   ],
   "source": [
    "ser1.index"
   ]
  },
  {
   "cell_type": "code",
   "execution_count": 34,
   "metadata": {},
   "outputs": [
    {
     "data": {
      "text/plain": [
       "array([1, 2, 3, 4, 5, 6], dtype=int64)"
      ]
     },
     "execution_count": 34,
     "metadata": {},
     "output_type": "execute_result"
    }
   ],
   "source": [
    "ser1.values"
   ]
  },
  {
   "cell_type": "code",
   "execution_count": 35,
   "metadata": {},
   "outputs": [
    {
     "data": {
      "text/plain": [
       "3"
      ]
     },
     "execution_count": 35,
     "metadata": {},
     "output_type": "execute_result"
    }
   ],
   "source": [
    "ser1.row3"
   ]
  },
  {
   "cell_type": "code",
   "execution_count": 36,
   "metadata": {},
   "outputs": [
    {
     "data": {
      "text/plain": [
       "2"
      ]
     },
     "execution_count": 36,
     "metadata": {},
     "output_type": "execute_result"
    }
   ],
   "source": [
    "ser1[\"row2\"]"
   ]
  },
  {
   "cell_type": "code",
   "execution_count": null,
   "metadata": {},
   "outputs": [],
   "source": []
  }
 ],
 "metadata": {
  "kernelspec": {
   "display_name": "Python 3",
   "language": "python",
   "name": "python3"
  },
  "language_info": {
   "codemirror_mode": {
    "name": "ipython",
    "version": 3
   },
   "file_extension": ".py",
   "mimetype": "text/x-python",
   "name": "python",
   "nbconvert_exporter": "python",
   "pygments_lexer": "ipython3",
   "version": "3.7.3"
  }
 },
 "nbformat": 4,
 "nbformat_minor": 2
}
